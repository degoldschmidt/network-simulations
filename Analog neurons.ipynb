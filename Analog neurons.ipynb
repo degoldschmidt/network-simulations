{
 "cells": [
  {
   "cell_type": "code",
   "execution_count": 1,
   "metadata": {
    "ExecuteTime": {
     "end_time": "2017-06-11T10:56:14.387574Z",
     "start_time": "2017-06-11T10:56:13.902311Z"
    },
    "collapsed": true
   },
   "outputs": [],
   "source": [
    "import numpy as np\n",
    "import numpy.random as rnd\n",
    "import matplotlib.pyplot as plt"
   ]
  },
  {
   "cell_type": "code",
   "execution_count": 6,
   "metadata": {
    "ExecuteTime": {
     "end_time": "2017-06-11T11:15:29.871979Z",
     "start_time": "2017-06-11T11:15:29.654930Z"
    }
   },
   "outputs": [
    {
     "data": {
      "image/png": "[encoded data removed]",
      "text/plain": [
       "<matplotlib.figure.Figure at 0x104747908>"
      ]
     },
     "metadata": {},
     "output_type": "display_data"
    }
   ],
   "source": [
    "\"\"\"\n",
    "unit defs\n",
    "\"\"\"\n",
    "ms = 0.001\n",
    "mV = 0.001\n",
    "\n",
    "\"\"\"\n",
    "helper funcs\n",
    "\"\"\"\n",
    "\n",
    "### lowpass filter func\n",
    "def lp(_in, _sp, _par=0.95):\n",
    "    return _par * _in + (1 - _par) * _sp\n",
    "\n",
    "from numpy.random import permutation\n",
    "from scipy import rand, randn, ones\n",
    "from scipy.sparse import csr_matrix\n",
    "\n",
    "def _rand_sparse(m, n, density):\n",
    "    # check parameters here\n",
    "    if density > 1.0 or density < 0.0:\n",
    "        raise ValueError('density should be between 0 and 1')\n",
    "    # More checks?\n",
    "    # Here I use the algorithm suggested by David to avoid ending\n",
    "    # up with less than m*n*density nonzero elements (with the algorithm\n",
    "    # provided by Nathan there is a nonzero probability of having duplicate\n",
    "    # rwo/col pairs).\n",
    "    nnz = max( min( int(m*n*density), m*n), 0)\n",
    "    rand_seq = permutation(m*n)[:nnz]\n",
    "    row  = rand_seq / n\n",
    "    col  = rand_seq % n\n",
    "    data = ones(nnz, dtype='int8')\n",
    "    # duplicate (i,j) entries will be summed together\n",
    "    return csr_matrix( (data,(row,col)), shape=(m,n) )\n",
    "\n",
    "def sprand(m, n, density):\n",
    "    \"\"\"Build a sparse uniformly distributed random matrix\n",
    "       Parameters\n",
    "       ----------\n",
    "       m, n     : dimensions of the result (rows, columns)\n",
    "       density  : fraction of nonzero entries.\n",
    "       Example\n",
    "       -------\n",
    "       >>> from scipy.sparse import sprand\n",
    "       >>> print sprand(2, 3, 0.5).todense()\n",
    "       matrix[[ 0.5724829   0.          0.92891214]\n",
    "             [ 0.          0.07712993  0.        ]]\n",
    "    \"\"\"\n",
    "    A = _rand_sparse(m, n, density)\n",
    "    A.data = rand(A.nnz)\n",
    "    return A\n",
    "\n",
    "def sprandn(m, n, density, mu=0.0, var=1.0):\n",
    "    \"\"\"Build a sparse normally distributed random matrix\n",
    "       Parameters\n",
    "       ----------\n",
    "       m, n     : dimensions of the result (rows, columns)\n",
    "       density  : fraction of nonzero entries.\n",
    "       Example\n",
    "       -------\n",
    "       >>> from scipy.sparse import sprandn\n",
    "       >>> print sprandn(2, 4, 0.5).todense()\n",
    "       matrix([[-0.84041995,  0.        ,  0.        , -0.22398594],\n",
    "               [-0.664707  ,  0.        ,  0.        , -0.06084135]])\n",
    "    \"\"\"\n",
    "    A = _rand_sparse(m, n, density)\n",
    "    A.data = var*randn(A.nnz) + mu\n",
    "    return A\n",
    "\n",
    "def sig(_val):\n",
    "    return 1/(1+np.exp(-_val))\n",
    "\n",
    "#M = sprandn(100, 100, 0.1, mu=3.0, var=1.0)"
   ]
  },
  {
   "cell_type": "code",
   "execution_count": 86,
   "metadata": {
    "ExecuteTime": {
     "end_time": "2017-06-11T13:08:56.955350Z",
     "start_time": "2017-06-11T13:08:56.821486Z"
    },
    "collapsed": true
   },
   "outputs": [],
   "source": [
    "class AnalogNet():\n",
    "    def __init__(self, _N=1):\n",
    "        \n",
    "        ##constants\n",
    "        self.func = \"tanh\"   # transfer function be used\n",
    "        self.tau = 10 * ms   # membrane time constant\n",
    "        self.R = 1           # membrane resistance\n",
    "        self.alpha = 1.0     # input scaling\n",
    "        self.Vr = -65 * mV   # resting potential\n",
    "        self.eps = 0.9999    # psp time constant\n",
    "        self.g = 10.0         # weight gain\n",
    "        self.N = _N\n",
    "        \n",
    "        ##containers\n",
    "        self.V = self.Vr * np.ones(_N)\n",
    "        self.I = np.zeros(_N)\n",
    "        self.psp = np.zeros(_N)\n",
    "        self.spk = np.zeros(_N)\n",
    "        \n",
    "        ## connectivity\n",
    "        wsc = self.g/_N\n",
    "        self.W = wsc*randn(_N, _N) - wsc*np.eye(_N) ##\n",
    "        print(self.W)\n",
    "        #self.W = sprandn(_N, _N, 0.01, mu=0.0, var=wsc) - 10.*wsc*np.eye(_N)\n",
    "        #for i in range(_N):\n",
    "        #   self.W(i,i) = 0.0\n",
    "        \n",
    "    \n",
    "    def __len__(self):\n",
    "        return self.N\n",
    "    \n",
    "    def run(self, _inputs, _timed, VERBOSE=False):\n",
    "        if VERBOSE:\n",
    "            print(\"\\n===\")\n",
    "            print(\"Simulating network of {:d} neurons for {:.2f} s (step size: {:.4f} s)\".format(self.N, _timed[-1]+_timed[1], _timed[1]))\n",
    "            self.verbosep()\n",
    "        dt = _timed[1]\n",
    "        vM = np.zeros((self.N, len(_timed)+1))\n",
    "        vM[:,0] = self.V\n",
    "        iM = np.zeros((self.N, len(_timed)+1))\n",
    "        iM[:,0] = self.I\n",
    "        for i, tstep in enumerate(_timed):\n",
    "            self.step(_inputs[:,i], _dt=dt)\n",
    "            vM[:,i+1] = self.V\n",
    "            iM[:,i+1] = self.I\n",
    "        if VERBOSE:\n",
    "            print(\"===\\n\")\n",
    "        return vM, iM\n",
    "        \n",
    "    \n",
    "    def step(self, _incurr, _dt=0.01):     \n",
    "        #inputs\n",
    "        response = self.V - self.Vr\n",
    "        self.psp = lp(self.psp, response, _par=self.eps)\n",
    "        wpsp = np.ravel(np.dot(self.W,self.psp))\n",
    "        self.I = _incurr * mV  + wpsp\n",
    "\n",
    "        #ode update\n",
    "        inputV = self.alpha * self.transfer(self.R * self.I)\n",
    "        dV = (self.Vr - self.V + inputV)/self.tau\n",
    "        self.V += _dt*dV \n",
    "    \n",
    "    def transfer(self, _val):\n",
    "        if self.func is \"tanh\":\n",
    "            return np.tanh(_val)\n",
    "        if self.func is \"sigm\":\n",
    "            return sig(_val)\n",
    "        \n",
    "    def verbosep(self):\n",
    "        print(\"---\")\n",
    "        print(\"Network parameters:\")\n",
    "        print(\"---\")\n",
    "        print(\"Transfer func:\\t\\t\", self.func)\n",
    "        print(\"Membrane time constant:\\t\", self.tau/ms, \"ms\")\n",
    "        print(\"Membrane resistance:\\t\", self.R, \"ohm\")\n",
    "        print(\"Input scaling:\\t\\t\", self.alpha)\n",
    "        print(\"Resting potential:\\t\", self.Vr/mV, \"mV\")\n",
    "        print(\"PSP lowpass constant:\\t\", self.eps)\n",
    "        "
   ]
  },
  {
   "cell_type": "code",
   "execution_count": 93,
   "metadata": {
    "ExecuteTime": {
     "end_time": "2017-06-11T13:09:33.408550Z",
     "start_time": "2017-06-11T13:09:33.078384Z"
    }
   },
   "outputs": [
    {
     "name": "stdout",
     "output_type": "stream",
     "text": [
      "[[-4.17467379]]\n",
      "My net has 1 neurons.\n",
      "\n",
      "===\n",
      "Simulating network of 1 neurons for 10.00 s (step size: 0.0010 s)\n",
      "---\n",
      "Network parameters:\n",
      "---\n",
      "Transfer func:\t\t tanh\n",
      "Membrane time constant:\t 20.0 ms\n",
      "Membrane resistance:\t 1 ohm\n",
      "Input scaling:\t\t 1.0\n",
      "Resting potential:\t -65.0 mV\n",
      "PSP lowpass constant:\t 0.99992\n",
      "===\n",
      "\n",
      "My net ran for 10.0 s.\n"
     ]
    }
   ],
   "source": [
    "analogNeuron = AnalogNet()\n",
    "print(\"My net has\", len(analogNeuron), \"neurons.\")\n",
    "\n",
    "# sim parameters\n",
    "N = len(analogNeuron)\n",
    "analogNeuron.tau = 20 * ms\n",
    "analogNeuron.eps = 0.99992\n",
    "startT = 0.\n",
    "totalT = 10.\n",
    "dt = 0.001\n",
    "T = np.arange(0.0, totalT+dt, dt)\n",
    "myInput = 1.0*(rnd.randn(N, len(T)))\n",
    "myInput[0,1000:3000] += 10.\n",
    "\n",
    "voltage, currents = analogNeuron.run(myInput, T[:-1], VERBOSE=True)\n",
    "print(\"My net ran for\", totalT, \"s.\")"
   ]
  },
  {
   "cell_type": "code",
   "execution_count": 94,
   "metadata": {
    "ExecuteTime": {
     "end_time": "2017-06-11T13:09:33.782285Z",
     "start_time": "2017-06-11T13:09:33.411335Z"
    }
   },
   "outputs": [
    {
     "data": {
      "image/png": "[encoded data removed]",
      "text/plain": [
       "<matplotlib.figure.Figure at 0x1055f0f60>"
      ]
     },
     "metadata": {},
     "output_type": "display_data"
    }
   ],
   "source": [
    "plt.plot(T, myInput[0],\"-\", c=\"#00ffba\", label=\"stimulation current\")\n",
    "plt.plot(T, voltage[0]/mV,\"-\", c=\"#00baff\", label=\"membrane potential\")\n",
    "plt.plot(T, currents[0]/mV,\"-\", c=\"#FF4500\", label=\"input current\")\n",
    "plt.legend()\n",
    "plt.xlim([startT,totalT])\n",
    "plt.show()"
   ]
  },
  {
   "cell_type": "code",
   "execution_count": null,
   "metadata": {
    "collapsed": true
   },
   "outputs": [],
   "source": []
  },
  {
   "cell_type": "code",
   "execution_count": null,
   "metadata": {
    "collapsed": true
   },
   "outputs": [],
   "source": []
  }
 ],
 "metadata": {
  "kernelspec": {
   "display_name": "Python 3",
   "language": "python",
   "name": "python3"
  },
  "language_info": {
   "codemirror_mode": {
    "name": "ipython",
    "version": 3
   },
   "file_extension": ".py",
   "mimetype": "text/x-python",
   "name": "python",
   "nbconvert_exporter": "python",
   "pygments_lexer": "ipython3",
   "version": "3.6.1"
  },
  "latex_envs": {
   "bibliofile": "biblio.bib",
   "cite_by": "apalike",
   "current_citInitial": 1,
   "eqLabelWithNumbers": true,
   "eqNumInitial": 0
  }
 },
 "nbformat": 4,
 "nbformat_minor": 2
}
