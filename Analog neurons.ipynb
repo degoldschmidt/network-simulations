{
 "cells": [
  {
   "cell_type": "code",
   "execution_count": 229,
   "metadata": {
    "ExecuteTime": {
     "end_time": "2017-06-11T14:18:25.878743Z",
     "start_time": "2017-06-11T14:18:25.874454Z"
    },
    "collapsed": true
   },
   "outputs": [],
   "source": [
    "import numpy as np\n",
    "import numpy.random as rnd\n",
    "import matplotlib.pyplot as plt\n",
    "from matplotlib import cm"
   ]
  },
  {
   "cell_type": "code",
   "execution_count": 6,
   "metadata": {
    "ExecuteTime": {
     "end_time": "2017-06-11T11:15:29.871979Z",
     "start_time": "2017-06-11T11:15:29.654930Z"
    }
   },
   "outputs": [
    {
     "data": {
      "image/png": "[encoded data removed]",
      "text/plain": [
       "<matplotlib.figure.Figure at 0x104747908>"
      ]
     },
     "metadata": {},
     "output_type": "display_data"
    }
   ],
   "source": [
    "\"\"\"\n",
    "unit defs\n",
    "\"\"\"\n",
    "ms = 0.001\n",
    "mV = 0.001\n",
    "\n",
    "\"\"\"\n",
    "helper funcs\n",
    "\"\"\"\n",
    "\n",
    "### lowpass filter func\n",
    "def lp(_in, _sp, _par=0.95):\n",
    "    return _par * _in + (1 - _par) * _sp\n",
    "\n",
    "from numpy.random import permutation\n",
    "from scipy import rand, randn, ones\n",
    "from scipy.sparse import csr_matrix\n",
    "\n",
    "def _rand_sparse(m, n, density):\n",
    "    # check parameters here\n",
    "    if density > 1.0 or density < 0.0:\n",
    "        raise ValueError('density should be between 0 and 1')\n",
    "    # More checks?\n",
    "    # Here I use the algorithm suggested by David to avoid ending\n",
    "    # up with less than m*n*density nonzero elements (with the algorithm\n",
    "    # provided by Nathan there is a nonzero probability of having duplicate\n",
    "    # rwo/col pairs).\n",
    "    nnz = max( min( int(m*n*density), m*n), 0)\n",
    "    rand_seq = permutation(m*n)[:nnz]\n",
    "    row  = rand_seq / n\n",
    "    col  = rand_seq % n\n",
    "    data = ones(nnz, dtype='int8')\n",
    "    # duplicate (i,j) entries will be summed together\n",
    "    return csr_matrix( (data,(row,col)), shape=(m,n) )\n",
    "\n",
    "def sprand(m, n, density):\n",
    "    \"\"\"Build a sparse uniformly distributed random matrix\n",
    "       Parameters\n",
    "       ----------\n",
    "       m, n     : dimensions of the result (rows, columns)\n",
    "       density  : fraction of nonzero entries.\n",
    "       Example\n",
    "       -------\n",
    "       >>> from scipy.sparse import sprand\n",
    "       >>> print sprand(2, 3, 0.5).todense()\n",
    "       matrix[[ 0.5724829   0.          0.92891214]\n",
    "             [ 0.          0.07712993  0.        ]]\n",
    "    \"\"\"\n",
    "    A = _rand_sparse(m, n, density)\n",
    "    A.data = rand(A.nnz)\n",
    "    return A\n",
    "\n",
    "def sprandn(m, n, density, mu=0.0, var=1.0):\n",
    "    \"\"\"Build a sparse normally distributed random matrix\n",
    "       Parameters\n",
    "       ----------\n",
    "       m, n     : dimensions of the result (rows, columns)\n",
    "       density  : fraction of nonzero entries.\n",
    "       Example\n",
    "       -------\n",
    "       >>> from scipy.sparse import sprandn\n",
    "       >>> print sprandn(2, 4, 0.5).todense()\n",
    "       matrix([[-0.84041995,  0.        ,  0.        , -0.22398594],\n",
    "               [-0.664707  ,  0.        ,  0.        , -0.06084135]])\n",
    "    \"\"\"\n",
    "    A = _rand_sparse(m, n, density)\n",
    "    A.data = var*randn(A.nnz) + mu\n",
    "    return A\n",
    "\n",
    "def sig(_val):\n",
    "    return 1/(1+np.exp(-_val))\n",
    "\n",
    "#M = sprandn(100, 100, 0.1, mu=3.0, var=1.0)"
   ]
  },
  {
   "cell_type": "code",
   "execution_count": 300,
   "metadata": {
    "ExecuteTime": {
     "end_time": "2017-06-11T19:53:21.919588Z",
     "start_time": "2017-06-11T19:53:21.750455Z"
    },
    "collapsed": true
   },
   "outputs": [],
   "source": [
    "class AnalogNet():\n",
    "    def __init__(self, _N=1):\n",
    "        \n",
    "        ##constants\n",
    "        self.func = \"tanh\"   # transfer function be used\n",
    "        self.tau = 20 * ms   # membrane time constant\n",
    "        self.stau = 1000 * ms# synaptic time constant\n",
    "        self.R = 1           # membrane resistance\n",
    "        self.alpha = 1.0     # input scaling\n",
    "        self.Vr = -65 * mV   # resting potential\n",
    "        self.eps = 0.9999    # psp time constant\n",
    "        self.g = 1.0         # weight gain\n",
    "        self.ssc = 1.0       # self-weight scaling\n",
    "        self.N = _N\n",
    "        \n",
    "        ##containers\n",
    "        self.V = self.Vr * np.ones(_N)\n",
    "        self.I = np.zeros(_N)\n",
    "        self.psp = np.zeros(_N)\n",
    "        self.spk = np.zeros(_N)\n",
    "        \n",
    "        ## connectivity\n",
    "        self.W = np.zeros((_N, _N))\n",
    "        #self.W = sprandn(_N, _N, 0.01, mu=0.0, var=wsc) - 10.*wsc*np.eye(_N)\n",
    "        #for i in range(_N):\n",
    "        #   self.W(i,i) = 0.0\n",
    "        \n",
    "    \n",
    "    def __len__(self):\n",
    "        return self.N\n",
    "    \n",
    "    def reconnect(self):\n",
    "        N = self.N\n",
    "        wsc = self.g/np.sqrt(N)\n",
    "        self.W  = wsc*randn(N,N) \n",
    "        self.W -= self.ssc*np.eye(N) + np.eye(N)*self.W\n",
    "        \n",
    "    \n",
    "    def run(self, _inputs, _timed, VERBOSE=False):\n",
    "        self.reconnect()\n",
    "        dt = _timed[1]\n",
    "        if VERBOSE:\n",
    "            print(\"\\n===\")\n",
    "            print(\"Simulating network of {:d} neurons for {:.2f} s (step size: {:.4f} s)\".format(self.N, _timed[-1]+dt, dt))\n",
    "            self.verbosep()\n",
    "        \n",
    "        vM = np.zeros((self.N, len(_timed)+1))\n",
    "        vM[:,0] = self.V\n",
    "        iM = np.zeros((self.N, len(_timed)+1))\n",
    "        iM[:,0] = self.I\n",
    "        pspM = np.zeros((self.N, len(_timed)+1))\n",
    "        pspM[:,0] = self.psp\n",
    "        for i, tstep in enumerate(_timed):\n",
    "            self.step(_inputs[:,i], _dt=dt)\n",
    "            vM[:,i+1] = self.V\n",
    "            iM[:,i+1] = self.I\n",
    "            pspM[:,i+1] = self.psp\n",
    "        if VERBOSE:\n",
    "            print(\"===\\n\")\n",
    "        return vM, iM, pspM\n",
    "        \n",
    "    \n",
    "    def step(self, _incurr, _dt=0.01):     \n",
    "        # postsyn. response dynamics\n",
    "        response = self.V - self.Vr\n",
    "        dPSP = (-self.psp + response)/self.stau\n",
    "        self.psp += _dt * dPSP\n",
    "        \n",
    "        # weighted sum of synaptic inputs\n",
    "        wpsp = np.ravel(np.dot(self.W,self.psp))\n",
    "        \n",
    "        # net input current\n",
    "        self.I = _incurr * mV  + wpsp\n",
    "\n",
    "        #ode update\n",
    "        inputV = self.alpha * self.transfer(self.R * self.I)\n",
    "        dV = (self.Vr - self.V + inputV)/self.tau\n",
    "        self.V += _dt*dV \n",
    "    \n",
    "    def transfer(self, _val):\n",
    "        if self.func is \"tanh\":\n",
    "            return np.tanh(_val)\n",
    "        if self.func is \"sigm\":\n",
    "            return sig(_val)\n",
    "        \n",
    "    def verbosep(self):\n",
    "        print(\"---\")\n",
    "        print(\"Network parameters:\")\n",
    "        print(\"---\")\n",
    "        print(\"Transfer func:\\t\\t\", self.func)\n",
    "        print(\"Membrane time constant:\\t\", self.tau/ms, \"ms\")\n",
    "        print(\"Synaptic time constant:\\t\", self.stau/ms, \"ms\")\n",
    "        print(\"Membrane resistance:\\t\", self.R, \"ohm\")\n",
    "        print(\"Input scaling:\\t\\t\", self.alpha)\n",
    "        print(\"Resting potential:\\t\", self.Vr/mV, \"mV\")\n",
    "        print(\"PSP lowpass constant:\\t\", self.eps)\n",
    "        print(\"Weight gain:\\t\\t\", self.g)\n",
    "        print(\"Self-weight scaling:\\t\", self.ssc)\n",
    "        print(\"Actual weights:\\t\\t\", self.W)\n",
    "        "
   ]
  },
  {
   "cell_type": "code",
   "execution_count": 377,
   "metadata": {
    "ExecuteTime": {
     "end_time": "2017-06-11T23:35:46.546504Z",
     "start_time": "2017-06-11T23:35:46.248295Z"
    }
   },
   "outputs": [
    {
     "name": "stdout",
     "output_type": "stream",
     "text": [
      "My net has 1 neurons.\n",
      "My net ran for 10.0 s.\n"
     ]
    }
   ],
   "source": [
    "analogNeuron = AnalogNet(_N=1)\n",
    "print(\"My net has\", len(analogNeuron), \"neurons.\")\n",
    "\n",
    "# sim parameters\n",
    "N = len(analogNeuron)\n",
    "startT = 0.\n",
    "totalT = 10.\n",
    "analogNeuron.tau = \n",
    "analogNeuron.g = 1.\n",
    "analogNeuron.ssc = 1.\n",
    "dt = 0.001\n",
    "T = np.arange(0.0, totalT+dt, dt)\n",
    "myInput = 0.5*(rnd.randn(N, len(T)))\n",
    "nStim = np.max(1, int(N/4))\n",
    "myInput[0:nStim,1000:2000] += 10.\n",
    "\n",
    "voltage, currents, psps = analogNeuron.run(myInput, T[:-1], VERBOSE=False)\n",
    "print(\"My net ran for\", totalT, \"s.\")"
   ]
  },
  {
   "cell_type": "code",
   "execution_count": 378,
   "metadata": {
    "ExecuteTime": {
     "end_time": "2017-06-11T23:35:48.050646Z",
     "start_time": "2017-06-11T23:35:47.580127Z"
    }
   },
   "outputs": [
    {
     "data": {
      "image/png": "[encoded data removed]",
      "text/plain": [
       "<matplotlib.figure.Figure at 0x109cdbe80>"
      ]
     },
     "metadata": {},
     "output_type": "display_data"
    }
   ],
   "source": [
    "colors = [ cm.spring(x) for x in np.linspace(0, 1, analogNeuron.N) ]\n",
    "plt.plot(T, myInput[0],\"k-\", label=\"stimulation current $I_{stim}$\")\n",
    "for i in range(1,analogNeuron.N):\n",
    "    plt.plot(T, (voltage[i] - analogNeuron.Vr)/mV ,\"-\", c=colors[i])\n",
    "plt.plot(T, (voltage[0] - analogNeuron.Vr)/mV ,\"-\", c=\"#00baff\", label=\"membrane response $V-V_R$\")\n",
    "#plt.plot(T, psps[0]/mV ,\"-\", c=\"#FF4500\", label=\"PSP\")\n",
    "#plt.plot(T, currents[0]/mV,\"-\", c=\"#FF4500\", label=\"input current\")\n",
    "plt.xlabel(\"time [s]\")\n",
    "plt.ylabel(\"signal [mV]\")\n",
    "plt.legend()\n",
    "plt.xlim([startT,totalT])\n",
    "plt.show()"
   ]
  },
  {
   "cell_type": "code",
   "execution_count": 305,
   "metadata": {
    "ExecuteTime": {
     "end_time": "2017-06-11T20:34:02.174892Z",
     "start_time": "2017-06-11T20:25:02.390924Z"
    }
   },
   "outputs": [
    {
     "name": "stdout",
     "output_type": "stream",
     "text": [
      "My net has 16 neurons.\n",
      "My net has 32 neurons.\n",
      "My net has 64 neurons.\n",
      "My net has 128 neurons.\n",
      "My net has 256 neurons.\n",
      "My net has 512 neurons.\n",
      "My net has 1024 neurons.\n",
      "My net has 2048 neurons.\n",
      "My net has 4096 neurons.\n",
      "My net has 8192 neurons.\n"
     ]
    }
   ],
   "source": [
    "maxIt = 10\n",
    "maxN = 2**(maxIt+4-1)\n",
    "myInput = 0.1*(rnd.randn(maxN, len(T)))\n",
    "myInput[0,1000:3000] += 10.\n",
    "volts = []\n",
    "\n",
    "for n in range(maxIt):\n",
    "    N = 2**(n+4)\n",
    "    analogNeuron = AnalogNet(_N=N)\n",
    "    print(\"My net has\", len(analogNeuron), \"neurons.\")\n",
    "    voltage, currents, psps = analogNeuron.run(myInput[:N], T[:-1], VERBOSE=False)\n",
    "    volts.append(voltage)"
   ]
  },
  {
   "cell_type": "code",
   "execution_count": 306,
   "metadata": {
    "ExecuteTime": {
     "end_time": "2017-06-11T20:34:03.121099Z",
     "start_time": "2017-06-11T20:34:02.180895Z"
    }
   },
   "outputs": [
    {
     "data": {
      "image/png": "[encoded data removed]",
      "text/plain": [
       "<matplotlib.figure.Figure at 0x1055bfba8>"
      ]
     },
     "metadata": {},
     "output_type": "display_data"
    }
   ],
   "source": [
    "plt.plot(T, myInput[0],\"-\", c=\"#00ffba\", label=\"stimulation current $I_{stim}$\")\n",
    "colors = [ cm.spring(x) for x in np.linspace(0, 1, len(volts)) ]\n",
    "for i, volt in enumerate(volts):\n",
    "    plt.plot(T, (volt[0] - analogNeuron.Vr)/mV ,\"-\", c=colors[i], label=\"membrane response $V-V_R$\")\n",
    "\n",
    "plt.xlabel(\"time [s]\")\n",
    "plt.ylabel(\"signal [mV]\")\n",
    "plt.legend()\n",
    "plt.xlim([startT,totalT])\n",
    "plt.show()"
   ]
  },
  {
   "cell_type": "code",
   "execution_count": null,
   "metadata": {
    "collapsed": true
   },
   "outputs": [],
   "source": []
  }
 ],
 "metadata": {
  "kernelspec": {
   "display_name": "Python 3",
   "language": "python",
   "name": "python3"
  },
  "language_info": {
   "codemirror_mode": {
    "name": "ipython",
    "version": 3
   },
   "file_extension": ".py",
   "mimetype": "text/x-python",
   "name": "python",
   "nbconvert_exporter": "python",
   "pygments_lexer": "ipython3",
   "version": "3.6.1"
  },
  "latex_envs": {
   "bibliofile": "biblio.bib",
   "cite_by": "apalike",
   "current_citInitial": 1,
   "eqLabelWithNumbers": true,
   "eqNumInitial": 0
  }
 },
 "nbformat": 4,
 "nbformat_minor": 2
}
